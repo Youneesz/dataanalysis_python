{
 "cells": [
  {
   "cell_type": "code",
   "execution_count": 25,
   "id": "8d4c2e7c",
   "metadata": {},
   "outputs": [],
   "source": [
    "import math"
   ]
  },
  {
   "cell_type": "code",
   "execution_count": 36,
   "id": "51f01d50",
   "metadata": {},
   "outputs": [],
   "source": [
    "def resolve(a, b, c):\n",
    "    delt = (b**2) - (4*a*c)\n",
    "    print(delt)\n",
    "    \n",
    "    if delt > 0:\n",
    "        x1 = (-b + math.sqrt(delt)) / (2*a)\n",
    "        x2 = (-b - math.sqrt(delt)) / (2*a)\n",
    "        return (x1, x2)\n",
    "    \n",
    "    elif delt == 0:\n",
    "        return -b / (2*a)\n",
    "    \n",
    "    else:\n",
    "        return 'Cannot solve because delta is negative' "
   ]
  },
  {
   "cell_type": "code",
   "execution_count": 44,
   "id": "e9628d6e",
   "metadata": {},
   "outputs": [
    {
     "name": "stdout",
     "output_type": "stream",
     "text": [
      "9\n"
     ]
    },
    {
     "data": {
      "text/plain": [
       "(2.0, 1.0)"
      ]
     },
     "execution_count": 44,
     "metadata": {},
     "output_type": "execute_result"
    }
   ],
   "source": [
    "resolve(3, -9, 6)"
   ]
  },
  {
   "cell_type": "code",
   "execution_count": 45,
   "id": "e442d323",
   "metadata": {},
   "outputs": [],
   "source": [
    "import numpy as np"
   ]
  },
  {
   "cell_type": "code",
   "execution_count": 46,
   "id": "d5106ffa",
   "metadata": {},
   "outputs": [
    {
     "data": {
      "text/plain": [
       "array([2., 1.])"
      ]
     },
     "execution_count": 46,
     "metadata": {},
     "output_type": "execute_result"
    }
   ],
   "source": [
    "np.roots([3, -9, 6])"
   ]
  },
  {
   "cell_type": "code",
   "execution_count": null,
   "id": "c906ea6b",
   "metadata": {},
   "outputs": [],
   "source": []
  }
 ],
 "metadata": {
  "kernelspec": {
   "display_name": "Python 3 (ipykernel)",
   "language": "python",
   "name": "python3"
  },
  "language_info": {
   "codemirror_mode": {
    "name": "ipython",
    "version": 3
   },
   "file_extension": ".py",
   "mimetype": "text/x-python",
   "name": "python",
   "nbconvert_exporter": "python",
   "pygments_lexer": "ipython3",
   "version": "3.9.12"
  }
 },
 "nbformat": 4,
 "nbformat_minor": 5
}
